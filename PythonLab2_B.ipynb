{
  "nbformat": 4,
  "nbformat_minor": 0,
  "metadata": {
    "colab": {
      "name": "PythonLab2-B.ipynb",
      "provenance": [],
      "collapsed_sections": [],
      "authorship_tag": "ABX9TyPG6lQG+ddHUw0EXH4gAL3p",
      "include_colab_link": true
    },
    "kernelspec": {
      "name": "python3",
      "display_name": "Python 3"
    },
    "language_info": {
      "name": "python"
    }
  },
  "cells": [
    {
      "cell_type": "markdown",
      "metadata": {
        "id": "view-in-github",
        "colab_type": "text"
      },
      "source": [
        "<a href=\"https://colab.research.google.com/github/lllovej/KB7016-17/blob/main/PythonLab2_B.ipynb\" target=\"_parent\"><img src=\"https://colab.research.google.com/assets/colab-badge.svg\" alt=\"Open In Colab\"/></a>"
      ]
    },
    {
      "cell_type": "markdown",
      "source": [
        "## Biopython Introduction\n",
        "Biopython is a set of freely available tools for biological computation written in Python by an international team of developers. The Biopython Project is an international association of developers of freely available Python (https: //www.python.org) tools for computational molecular biology. Python is an object oriented, interpreted, flexible language that is becoming increasingly popular for scientific computing. Python is easy to learn, has a very clear syntax and can easily be extended with modules written in C, C++ or FORTRAN.\n",
        "\n",
        "\n",
        "The Biopython web site (http://www.biopython.org) provides an online resource for modules, scripts, and web links for developers of Python-based software for bioinformatics use and research. Basically, the goal of Biopython is to make it as easy as possible to use Python for bioinformatics by creating high-quality, reusable modules and classes. Biopython features include parsers for various Bioinformatics file formats (***BLAST***,***Clustalw***, ***FASTA***, ***Genbank***,...), access to online services (***NCBI***, ***Expasy***,...), interfaces to common and not-so-common programs (***Clustalw***, ***DSSP***, ***MSMS***...), a standard sequence class, various clustering modules, a KD tree data structure etc. and even documentation. Biopython Tutorial(http://biopython.org/DIST/docs/tutorial/Tutorial.html) is an official webpage providing all detailed explanation with examples for the package. It is highly recommand that you check the corresponding information while doing the following exercise. \n",
        "\n",
        "\n",
        "In this lab, you will be introduced how to load and parse files using Biopython package. \n",
        "\n",
        "\n"
      ],
      "metadata": {
        "id": "_Q95fnZGih54"
      }
    },
    {
      "cell_type": "markdown",
      "source": [
        "## Quick Start  - Sequence Object"
      ],
      "metadata": {
        "id": "6SBWZj2rROdZ"
      }
    },
    {
      "cell_type": "code",
      "source": [
        "!pip install Bio ## install the package first\n",
        "from Bio.Seq import Seq  ## import the subpackage from Bio"
      ],
      "metadata": {
        "colab": {
          "base_uri": "https://localhost:8080/"
        },
        "id": "c3xfcqIATag6",
        "outputId": "03773226-5438-4093-97df-e98a3a76d9e9"
      },
      "execution_count": null,
      "outputs": [
        {
          "output_type": "stream",
          "name": "stdout",
          "text": [
            "Collecting Bio\n",
            "  Downloading bio-1.3.3-py3-none-any.whl (271 kB)\n",
            "\u001b[?25l\r\u001b[K     |█▏                              | 10 kB 21.1 MB/s eta 0:00:01\r\u001b[K     |██▍                             | 20 kB 13.0 MB/s eta 0:00:01\r\u001b[K     |███▋                            | 30 kB 10.6 MB/s eta 0:00:01\r\u001b[K     |████▉                           | 40 kB 9.2 MB/s eta 0:00:01\r\u001b[K     |██████                          | 51 kB 5.4 MB/s eta 0:00:01\r\u001b[K     |███████▎                        | 61 kB 5.6 MB/s eta 0:00:01\r\u001b[K     |████████▍                       | 71 kB 5.5 MB/s eta 0:00:01\r\u001b[K     |█████████▋                      | 81 kB 6.1 MB/s eta 0:00:01\r\u001b[K     |██████████▉                     | 92 kB 6.2 MB/s eta 0:00:01\r\u001b[K     |████████████                    | 102 kB 5.2 MB/s eta 0:00:01\r\u001b[K     |█████████████▎                  | 112 kB 5.2 MB/s eta 0:00:01\r\u001b[K     |██████████████▌                 | 122 kB 5.2 MB/s eta 0:00:01\r\u001b[K     |███████████████▊                | 133 kB 5.2 MB/s eta 0:00:01\r\u001b[K     |████████████████▉               | 143 kB 5.2 MB/s eta 0:00:01\r\u001b[K     |██████████████████              | 153 kB 5.2 MB/s eta 0:00:01\r\u001b[K     |███████████████████▎            | 163 kB 5.2 MB/s eta 0:00:01\r\u001b[K     |████████████████████▌           | 174 kB 5.2 MB/s eta 0:00:01\r\u001b[K     |█████████████████████▊          | 184 kB 5.2 MB/s eta 0:00:01\r\u001b[K     |███████████████████████         | 194 kB 5.2 MB/s eta 0:00:01\r\u001b[K     |████████████████████████▏       | 204 kB 5.2 MB/s eta 0:00:01\r\u001b[K     |█████████████████████████▎      | 215 kB 5.2 MB/s eta 0:00:01\r\u001b[K     |██████████████████████████▌     | 225 kB 5.2 MB/s eta 0:00:01\r\u001b[K     |███████████████████████████▊    | 235 kB 5.2 MB/s eta 0:00:01\r\u001b[K     |█████████████████████████████   | 245 kB 5.2 MB/s eta 0:00:01\r\u001b[K     |██████████████████████████████▏ | 256 kB 5.2 MB/s eta 0:00:01\r\u001b[K     |███████████████████████████████▍| 266 kB 5.2 MB/s eta 0:00:01\r\u001b[K     |████████████████████████████████| 271 kB 5.2 MB/s \n",
            "\u001b[?25hRequirement already satisfied: requests in /usr/local/lib/python3.7/dist-packages (from Bio) (2.23.0)\n",
            "Collecting biopython>=1.79\n",
            "  Downloading biopython-1.79-cp37-cp37m-manylinux_2_5_x86_64.manylinux1_x86_64.whl (2.3 MB)\n",
            "\u001b[K     |████████████████████████████████| 2.3 MB 50.9 MB/s \n",
            "\u001b[?25hRequirement already satisfied: tqdm in /usr/local/lib/python3.7/dist-packages (from Bio) (4.62.3)\n",
            "Collecting mygene\n",
            "  Downloading mygene-3.2.2-py2.py3-none-any.whl (5.4 kB)\n",
            "Requirement already satisfied: numpy in /usr/local/lib/python3.7/dist-packages (from biopython>=1.79->Bio) (1.19.5)\n",
            "Collecting biothings-client>=0.2.6\n",
            "  Downloading biothings_client-0.2.6-py2.py3-none-any.whl (37 kB)\n",
            "Requirement already satisfied: idna<3,>=2.5 in /usr/local/lib/python3.7/dist-packages (from requests->Bio) (2.10)\n",
            "Requirement already satisfied: certifi>=2017.4.17 in /usr/local/lib/python3.7/dist-packages (from requests->Bio) (2021.10.8)\n",
            "Requirement already satisfied: urllib3!=1.25.0,!=1.25.1,<1.26,>=1.21.1 in /usr/local/lib/python3.7/dist-packages (from requests->Bio) (1.24.3)\n",
            "Requirement already satisfied: chardet<4,>=3.0.2 in /usr/local/lib/python3.7/dist-packages (from requests->Bio) (3.0.4)\n",
            "Installing collected packages: biothings-client, mygene, biopython, Bio\n",
            "Successfully installed Bio-1.3.3 biopython-1.79 biothings-client-0.2.6 mygene-3.2.2\n"
          ]
        }
      ]
    },
    {
      "cell_type": "code",
      "source": [
        "## DNA sequence \n",
        "my_seq = Seq(\"GCTGTTATGGGTCGTTGGAAGGGTGGTCGTGCTGCTGGTTAG\")\n",
        "\n",
        "# print out some details about it\n",
        "print(\"seq %s is %i bases long\" % (my_seq, len(my_seq)))\n",
        "print(\"reverse complement is %s\" % my_seq.reverse_complement())\n",
        "print(\"protein translation is %s\" % my_seq.translate())"
      ],
      "metadata": {
        "colab": {
          "base_uri": "https://localhost:8080/"
        },
        "id": "YRQBu0RXTKqo",
        "outputId": "1bd0925e-9505-453a-c79f-a611c4540119"
      },
      "execution_count": null,
      "outputs": [
        {
          "output_type": "stream",
          "name": "stdout",
          "text": [
            "seq GCTGTTATGGGTCGTTGGAAGGGTGGTCGTGCTGCTGGTTAG is 42 bases long\n",
            "reverse complement is CTAACCAGCAGCACGACCACCCTTCCAACGACCCATAACAGC\n",
            "protein translation is AVMGRWKGGRAAG*\n"
          ]
        }
      ]
    },
    {
      "cell_type": "markdown",
      "source": [
        "### Question: \n",
        "What does the asterisk mean in the protein translation result?"
      ],
      "metadata": {
        "id": "MO63R_LBZ07h"
      }
    },
    {
      "cell_type": "markdown",
      "source": [
        "### Parsing sequence file formats\n",
        "The parsing function aims to provide a simple interface for working with assorted sequence file formats in a uniform way. Here we use a **fasta format** sequence file as example."
      ],
      "metadata": {
        "id": "gl-8jFydabxp"
      }
    },
    {
      "cell_type": "code",
      "source": [
        "from Bio import SeqIO\n",
        "\n",
        "## load the fasta file from online and save it to colab server\n",
        "import base64\n",
        "import requests\n",
        "\n",
        "master = \"https://raw.githubusercontent.com/biopython/biopython/master/Doc/examples/ls_orchid.fasta\" \n",
        "seq = requests.get(master)\n",
        "seq = seq.text\n",
        "#print(seq)    ## take a look on the example fasta file\n",
        "\n",
        "with open('ls_orchid.fasta','w') as f:\n",
        "     for i in seq:\n",
        "         f.write(i)      \n",
        "\n",
        "## then the file should be saved in \"Files\" column on the left side of the page.\n",
        "## double click the file to check it.\n",
        "\n",
        "             "
      ],
      "metadata": {
        "id": "8cRcTrZTgfOC"
      },
      "execution_count": null,
      "outputs": []
    },
    {
      "cell_type": "code",
      "source": [
        "for seq_record in SeqIO.parse('ls_orchid.fasta', \"fasta\"):\n",
        "   print(seq_record.id)\n",
        "   print(repr(seq_record.seq))\n",
        "   print(len(seq_record))"
      ],
      "metadata": {
        "id": "Cm6dLv7yr1Zb"
      },
      "execution_count": null,
      "outputs": []
    },
    {
      "cell_type": "markdown",
      "source": [
        "### Question:\n",
        "How many sequences are there in **ls_orchid.fasta**? How should you count that programmatically?"
      ],
      "metadata": {
        "id": "zbYxDUotuc0X"
      }
    },
    {
      "cell_type": "markdown",
      "source": [
        "### SeqIO Iterator read single Record\n",
        " the above examples, we have usually used a for loop to iterate over all the records one by one. You can use the ***for loop*** with all sorts of Python objects (including lists, tuples and strings) which support the iteration interface.\n",
        "The object returned by **Bio.SeqIO** is actually an iterator which returns **SeqRecord** objects. You get to see each record in turn, but once and only once. The plus point is that an iterator can save you memory when dealing with large files.\n",
        "\n",
        "\n",
        "Instead of using a for loop, one can also use the **next()** function on an iterator to step through the entries, like this:\n"
      ],
      "metadata": {
        "id": "J0dObOw5zuOs"
      }
    },
    {
      "cell_type": "code",
      "source": [
        "record_iterator = SeqIO.parse(\"ls_orchid.fasta\", \"fasta\")\n",
        "first_record = next(record_iterator)\n",
        "print(first_record)"
      ],
      "metadata": {
        "id": "2SpDVx05z_rJ"
      },
      "execution_count": null,
      "outputs": []
    },
    {
      "cell_type": "markdown",
      "source": [
        "### Question:\n",
        "What attributes does a record contain? how do you retrieve a certain attribute? "
      ],
      "metadata": {
        "id": "wpmaFoIC0JCI"
      }
    },
    {
      "cell_type": "markdown",
      "source": [
        "### Save Record to List\n",
        "**Bio.SeqIO.parse()** gives you a SeqRecord python iterator, and that means you get the records one by one. Very often you need to be able to access the records in any order. The Python list data type is perfect for this, and we can turn the record iterator into a list of SeqRecord objects using the built-in Python function **list()** like so:\n"
      ],
      "metadata": {
        "id": "79tpLUl4xFS0"
      }
    },
    {
      "cell_type": "code",
      "source": [
        "## save all identifiers to a list\n",
        "identifiers = [seq_record.id for seq_record in SeqIO.parse(\"ls_orchid.fasta\", \"fasta\")]\n",
        "print(identifiers)"
      ],
      "metadata": {
        "id": "Z83AXOvYhH-h"
      },
      "execution_count": null,
      "outputs": []
    },
    {
      "cell_type": "markdown",
      "source": [
        "### Question:\n",
        "Following the previous question, can you find another way to count sequences? Besides, how do you extract the third record?\n"
      ],
      "metadata": {
        "id": "e3sHQMTmxmgO"
      }
    },
    {
      "cell_type": "markdown",
      "source": [
        "### Quick Start  - PDB Object\n",
        "\n",
        "Biopython provides Bio.PDB module to manipulate polypeptide structures. The PDB (Protein Data Bank) is the largest protein structure resource available online. It hosts a lot of distinct protein structures, including protein-protein, protein-DNA, protein-RNA complexes. For this lab, we simply introduce **PDB format** files as examples.\n"
      ],
      "metadata": {
        "id": "LpqfQBuW7O4V"
      }
    },
    {
      "cell_type": "code",
      "source": [
        "from Bio.PDB import *   ## load the PDB\n",
        "pdbl = PDBList() \n",
        "pdbl.retrieve_pdb_file('2HUE', pdir = '.', file_format = 'pdb') ## download pdb file"
      ],
      "metadata": {
        "colab": {
          "base_uri": "https://localhost:8080/",
          "height": 54
        },
        "id": "FuiWirixuIPt",
        "outputId": "a091798b-fc21-46db-ab5b-0dbf5cb14bb5"
      },
      "execution_count": null,
      "outputs": [
        {
          "output_type": "stream",
          "name": "stdout",
          "text": [
            "Downloading PDB structure '2HUE'...\n"
          ]
        },
        {
          "output_type": "execute_result",
          "data": {
            "application/vnd.google.colaboratory.intrinsic+json": {
              "type": "string"
            },
            "text/plain": [
              "'./pdb2hue.ent'"
            ]
          },
          "metadata": {},
          "execution_count": 3
        }
      ]
    },
    {
      "cell_type": "code",
      "source": [
        "parser = PDBParser(PERMISSIVE=1)  ## load PDB parser\n",
        "structure_id = \"2hue\"\n",
        "filename = \"pdb2hue.ent\"\n",
        "test_structure = parser.get_structure(structure_id, filename)    ## parse the structure"
      ],
      "metadata": {
        "colab": {
          "base_uri": "https://localhost:8080/"
        },
        "id": "ttY17zp8-X9Y",
        "outputId": "16535f7a-b534-4c68-8751-25940f29b19b"
      },
      "execution_count": null,
      "outputs": [
        {
          "output_type": "stream",
          "name": "stderr",
          "text": [
            "/usr/local/lib/python3.7/dist-packages/Bio/PDB/StructureBuilder.py:92: PDBConstructionWarning: WARNING: Chain A is discontinuous at line 3263.\n",
            "  PDBConstructionWarning,\n",
            "/usr/local/lib/python3.7/dist-packages/Bio/PDB/StructureBuilder.py:92: PDBConstructionWarning: WARNING: Chain B is discontinuous at line 3270.\n",
            "  PDBConstructionWarning,\n",
            "/usr/local/lib/python3.7/dist-packages/Bio/PDB/StructureBuilder.py:92: PDBConstructionWarning: WARNING: Chain C is discontinuous at line 3280.\n",
            "  PDBConstructionWarning,\n",
            "/usr/local/lib/python3.7/dist-packages/Bio/PDB/StructureBuilder.py:92: PDBConstructionWarning: WARNING: Chain A is discontinuous at line 3286.\n",
            "  PDBConstructionWarning,\n",
            "/usr/local/lib/python3.7/dist-packages/Bio/PDB/StructureBuilder.py:92: PDBConstructionWarning: WARNING: Chain B is discontinuous at line 3466.\n",
            "  PDBConstructionWarning,\n",
            "/usr/local/lib/python3.7/dist-packages/Bio/PDB/StructureBuilder.py:92: PDBConstructionWarning: WARNING: Chain C is discontinuous at line 3549.\n",
            "  PDBConstructionWarning,\n"
          ]
        }
      ]
    },
    {
      "cell_type": "markdown",
      "source": [
        "The overall layout of a Structure object follows the so-called SMCRA (Structure/Model/Chain/Residue/Atom) architecture:\n",
        "- A structure consists of models \n",
        "- A model consists of chains\n",
        "- A chain consists of residues\n",
        "- A residue consists of atoms\n",
        "\n",
        "This is the way many structural biologists/bioinformaticians think about structure, and provides a simple but efficient way to deal with structure. Additional stuff is essentially added when needed. To get a better understanding of this hierarchical architecture, check the codes below.\n"
      ],
      "metadata": {
        "id": "rPuL3t25BCk1"
      }
    },
    {
      "cell_type": "code",
      "source": [
        "for model in test_structure:  ## check Model, Chain\n",
        "    for chain in model:\n",
        "        print(model, chain)"
      ],
      "metadata": {
        "colab": {
          "base_uri": "https://localhost:8080/"
        },
        "id": "fJN9LOwD_CGC",
        "outputId": "3bec8f52-949e-4403-c790-663cf5c93338"
      },
      "execution_count": null,
      "outputs": [
        {
          "output_type": "stream",
          "name": "stdout",
          "text": [
            "<Model id=0> <Chain id=A>\n",
            "<Model id=0> <Chain id=B>\n",
            "<Model id=0> <Chain id=C>\n"
          ]
        }
      ]
    },
    {
      "cell_type": "code",
      "source": [
        "#for residue in test_structure[0]['A']:  ## take Chain A of the 1st model as an example: check their residues and atoms\n",
        "#    for atom in residue:\n",
        "#        print(residue, atom)\n",
        "    "
      ],
      "metadata": {
        "id": "iuVlUxtFExcO"
      },
      "execution_count": null,
      "outputs": []
    },
    {
      "cell_type": "markdown",
      "source": [
        "A residue includes three elements:\n",
        "- \"Residue\" is followed by three-letter amino acid name;\n",
        "- 'het' indicates if it is a hetero residues;\n",
        "- The insertion code (icode); a string, e.g. ’A’. The insertion code is sometimes used to preserve a certain desirable residue numbering scheme. A Ser 80 insertion mutant (inserted e.g. between a Thr 80 and an Asn 81 residue) could e.g. have sequence identifiers and insertion codes as follows: Thr 80 A, Ser 80 B, Asn 81. In this way the residue numbering scheme stays in tune with that of the wild type structure."
      ],
      "metadata": {
        "id": "llKe_bW3V825"
      }
    },
    {
      "cell_type": "markdown",
      "source": [
        "### Hint !\n",
        "Go to RCSB webpage: https://www.rcsb.org/structure/2HUE, compare the previous chain results with the online information."
      ],
      "metadata": {
        "id": "I1oNT6LCD4wR"
      }
    },
    {
      "cell_type": "markdown",
      "source": [
        "## Selection\n",
        "**Bio.PDB.Selection module** unfold entities list to a child level, for example:\n",
        "```\n",
        "res_list = Selection.unfold_entities(structure, 'R') \n",
        "```\n",
        "This line gett all residues from a structure. Or to get all atoms from a chain:\n",
        "```\n",
        "atom_list = Selection.unfold_entities(chain, 'A')\n",
        "```\n",
        "\n",
        "Obviously, `A=atom`, `R=residue`, `C=chain`, `M=model`, `S=structure`. You can use this to go up in the hierarchy, e.g. to get a list of (unique) Residue or Chain parents from a list of Atoms:\n",
        "```\n",
        "residue_list = Selection.unfold_entities(atom_list, 'R')\n",
        "chain_list = Selection.unfold_entities(atom_list, 'C')\n",
        "```\n"
      ],
      "metadata": {
        "id": "rPbyaB8X4P80"
      }
    },
    {
      "cell_type": "code",
      "source": [
        "from Bio.PDB.Selection import unfold_entities\n",
        "### unfold the structure to get all chains:\n",
        "chain_list = unfold_entities(test_structure,'C')\n",
        "print(chain_list)"
      ],
      "metadata": {
        "colab": {
          "base_uri": "https://localhost:8080/"
        },
        "id": "kDzzWhIt8aCW",
        "outputId": "cb42fc17-1e45-454c-dd03-2007e5bc42ae"
      },
      "execution_count": null,
      "outputs": [
        {
          "output_type": "stream",
          "name": "stdout",
          "text": [
            "[<Chain id=A>, <Chain id=B>, <Chain id=C>]\n"
          ]
        }
      ]
    },
    {
      "cell_type": "markdown",
      "source": [
        "## Question:\n",
        "Can you get all atoms from **Chain B** of the test structure? how many atoms in **Chain B**?"
      ],
      "metadata": {
        "id": "l2TRL-2H-Z8a"
      }
    }
  ]
}