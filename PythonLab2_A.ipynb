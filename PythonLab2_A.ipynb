{
  "cells": [
    {
      "cell_type": "markdown",
      "metadata": {
        "id": "view-in-github",
        "colab_type": "text"
      },
      "source": [
        "<a href=\"https://colab.research.google.com/github/lllovej/KB7016-17/blob/main/PythonLab2_A.ipynb\" target=\"_parent\"><img src=\"https://colab.research.google.com/assets/colab-badge.svg\" alt=\"Open In Colab\"/></a>"
      ]
    },
    {
      "cell_type": "markdown",
      "metadata": {
        "id": "keHsSSz8doQq"
      },
      "source": [
        "# Intro to Data Visualization with Matplotlib\n"
      ]
    },
    {
      "cell_type": "markdown",
      "metadata": {
        "id": "5udBS_K3doQu"
      },
      "source": [
        "## Why is data visualization important?\n",
        "> \"A picture is worth a thousand words\"\n",
        "\n",
        "\n",
        "> Because of the way the human brain processes information, using charts or graphs to visualize large amounts of complex data is easier than poring over spreadsheets or reports. Data visualization is a quick, easy way to convey concepts in a universal manner – and you can experiment with different scenarios by making slight adjustments.\n",
        "\n"
      ]
    },
    {
      "cell_type": "markdown",
      "metadata": {
        "id": "0pMhJb_7doQv"
      },
      "source": [
        "## What is Matplotlib?\n",
        "The **matplotlib** Python library, developed by **John Hunter** and many other contributors, is used to create high-quality graphs, charts, and figures. The library is extensive and capable of changing very minute details of a figure. \n",
        "\n",
        "__Some basic concepts and functions provided in matplotlib are__\n",
        "\n",
        "### Figure and axes \n",
        "The entire illustration is called a figure and each plot on it is an axes (do not confuse Axes with Axis). The figure can be thought of as a canvas on which several plots can be drawn. We obtain the figure and the axes using the **subplots()** function\n",
        "\n",
        "### Plotting\n",
        "The very first thing required to plot a graph is data. A dictionary of key-value pairs can be declared, with keys and values as the x and y values. After that, scatter(), bar(), and pie(), along with tons of other functions, can be used to create the plot. \n",
        "\n",
        "### Axis\n",
        "The figure and axes obtained using subplots() can be used for modification. Properties of the x-axis and y-axis (labels, minimum and maximum values, etc.) can be changed using Axes.set()"
      ]
    },
    {
      "cell_type": "markdown",
      "metadata": {
        "id": "CVSr15M1doQw"
      },
      "source": [
        "## Anatomy of a Figure \n",
        "A matplotlib visualization is a figure onto which is attached one or more axes. Each axes has a horizontal (x) axis and vertical (y) axis, and the data is encoded using color and glyphs such as markers (for example circles) or lines or polygons (called patches). The figure below annotates these parts of a visualization and was created by Nicolas P. Rougier using matplotlib. The source code can be found in the [matplotlib documentation](https://matplotlib.org/gallery/showcase/anatomy.html#sphx-glr-gallery-showcase-anatomy-py).\n",
        "![anatomy](https://github.com/hossainlab/PY4B/blob/master/book/img/mpl_anatomy.png?raw=1)"
      ]
    },
    {
      "cell_type": "markdown",
      "metadata": {
        "id": "sCE7dLpJdoQw"
      },
      "source": [
        "## Basic Charts / Graphs \n",
        "- Line Plot \n",
        "- Histograms \n",
        "- Scatter Plot \n",
        "- Box plots\n",
        "- Bar Plots \n",
        "- Pie Chart "
      ]
    },
    {
      "cell_type": "markdown",
      "metadata": {
        "id": "cw-U1f8BdoQx"
      },
      "source": [
        "## Import Library"
      ]
    },
    {
      "cell_type": "code",
      "execution_count": null,
      "metadata": {
        "id": "japZZekHdoQx"
      },
      "outputs": [],
      "source": [
        "import matplotlib.pyplot as plt # plt is the convention, also known as nickname "
      ]
    },
    {
      "cell_type": "markdown",
      "metadata": {
        "id": "41AhANnrdoQz"
      },
      "source": [
        "## Line Plot\n",
        "- Line Graph: a graph that shows information that is connected in some way (such as change over time)\n",
        "![](https://github.com/hossainlab/PY4B/blob/master/book/img/line-graph-example.svg?raw=1)"
      ]
    },
    {
      "cell_type": "code",
      "execution_count": null,
      "metadata": {
        "id": "uTUcD5VjdoQz"
      },
      "outputs": [],
      "source": [
        "# <---Fake Data for Plotting---->\n",
        "# Median ages \n",
        "ages = [25, 26, 27, 28, 29, 30, 31, 32, 33, 34, 35]\n",
        "\n",
        "# Median Microbiologist Salaries by Age\n",
        "mib_salary = [38496, 42000, 46752, 49320, 53200, 56000, 62316, 64928, 67317, 68748, 73752]\n",
        "\n",
        "# Median Pharmacist Salaries by Age\n",
        "pharma_salary = [45372, 48876, 53850, 57287, 63016,65998, 70003, 70000, 71496, 75370, 83640]\n",
        "\n",
        "# Median Cader Salaries by Age\n",
        "bcs_salary = [37810, 43515, 46823, 49293, 53437,56373, 62375, 66674, 68745, 68746, 74583]"
      ]
    },
    {
      "cell_type": "markdown",
      "metadata": {
        "id": "YzFacWbidoQ0"
      },
      "source": [
        "### Create Simple Line Plot "
      ]
    },
    {
      "cell_type": "code",
      "execution_count": null,
      "metadata": {
        "id": "IY_umvf3doQ0",
        "outputId": "2be4b123-c87a-4041-f1e7-812bc80053a3",
        "colab": {
          "base_uri": "https://localhost:8080/",
          "height": 286
        }
      },
      "outputs": [
        {
          "output_type": "display_data",
          "data": {
            "image/png": "[encoded data removed]",
            "text/plain": [
              "<Figure size 432x288 with 1 Axes>"
            ]
          },
          "metadata": {
            "needs_background": "light"
          }
        }
      ],
      "source": [
        "plt.plot(ages, mib_salary) ## ages: x_axis, mib_salary: y_axis\n",
        "plt.show() ## show the plot"
      ]
    },
    {
      "cell_type": "markdown",
      "metadata": {
        "id": "XHsDbR5MdoQ1"
      },
      "source": [
        "### Add Title, Labels "
      ]
    },
    {
      "cell_type": "code",
      "execution_count": null,
      "metadata": {
        "id": "_m-cNUV_doQ2",
        "outputId": "139f1b14-f3d8-496f-f5ae-a80f2bc1d075",
        "colab": {
          "base_uri": "https://localhost:8080/",
          "height": 315
        }
      },
      "outputs": [
        {
          "output_type": "display_data",
          "data": {
            "image/png": "[encoded data removed]",
            "text/plain": [
              "<Figure size 432x288 with 1 Axes>"
            ]
          },
          "metadata": {
            "needs_background": "light"
          }
        }
      ],
      "source": [
        "plt.plot(ages, mib_salary) \n",
        "plt.xlabel('Ages')    ## add x_axis label\n",
        "plt.ylabel('Median Salary (USD)')  ## add y_axis label\n",
        "plt.title('Median Salary (USD) by Age')   ## add the title of the plot \n",
        "plt.show() "
      ]
    },
    {
      "cell_type": "markdown",
      "metadata": {
        "id": "k7A4EzFTdoQ2"
      },
      "source": [
        "### Comparison\n",
        "How do you add another line in the same figure? Complete the lines in the below cell and plot a figure like this:\n",
        "![](https://github.com/lllovej/KB7016-17/blob/main/A_comparison-2.png?raw=1)\n",
        "\n"
      ]
    },
    {
      "cell_type": "code",
      "execution_count": null,
      "metadata": {
        "id": "YMNYjWWMdoQ3",
        "outputId": "e4c25932-19f3-43c5-f50b-b53bb235ee75",
        "colab": {
          "base_uri": "https://localhost:8080/",
          "height": 315
        }
      },
      "outputs": [
        {
          "output_type": "display_data",
          "data": {
            "image/png": "[encoded data removed]",
            "text/plain": [
              "<Figure size 432x288 with 1 Axes>"
            ]
          },
          "metadata": {
            "needs_background": "light"
          }
        }
      ],
      "source": [
        "# Microbiology\n",
        "plt.plot(ages, mib_salary)\n",
        "\n",
        "## -----------------------add your code here! ---------------------------------\n",
        "## add the similar line plot: x-axis ages; y-axis pharma_salary\n",
        "\n",
        "\n",
        "plt.xlabel('Ages')\n",
        "plt.ylabel('Median Salary (USD)')\n",
        "plt.title('Median Salary (USD) by Age')\n",
        "plt.show() \n"
      ]
    },
    {
      "cell_type": "markdown",
      "metadata": {
        "id": "KuD4vCd3doQ3"
      },
      "source": [
        "### Add Legend\n",
        "Follow the previous cell, add another bcs_salary line in the figure (so now should be three lines in the plot). Now as we have three lines in the figure, how can we match the lines to the variables? Check out **Legend** function and complete the lines in the below cell and plot a figure like this:\n",
        "![](https://github.com/lllovej/KB7016-17/blob/main/A_legend_label.png?raw=1)\n",
        "\n",
        "> Attention!\n",
        " In the example plot, the names of variables in the legend are different from the variables. You might need to add the new names somewhere in codes."
      ]
    },
    {
      "cell_type": "code",
      "execution_count": null,
      "metadata": {
        "id": "GjIDdEgwdoQ4",
        "outputId": "1381ad1e-8fff-4b72-f831-6e7f0494ec7e",
        "colab": {
          "base_uri": "https://localhost:8080/",
          "height": 315
        }
      },
      "outputs": [
        {
          "output_type": "display_data",
          "data": {
            "image/png": "[encoded data removed]",
            "text/plain": [
              "<Figure size 432x288 with 1 Axes>"
            ]
          },
          "metadata": {
            "needs_background": "light"
          }
        }
      ],
      "source": [
        "## -----------------------add your code here! ---------------------------------\n",
        "## add the 1st plot x-axis ages; y-axis mib_salary\n",
        "\n",
        "\n",
        "## add the 2nd plot: x-axis ages; y-axis pharma_salary\n",
        "\n",
        "\n",
        "## add the 3rd plot: x-axis ages; y-axis bcs_salary\n",
        "\n",
        "\n",
        "\n",
        "plt.xlabel('Ages')\n",
        "plt.ylabel('Median Salary (USD)')\n",
        "plt.title('Median Salary (USD) by Age')\n",
        "## -----------------------add your code here! ---------------------------------\n",
        "## add legend function\n",
        "\n",
        "\n",
        "plt.show() \n",
        "\n"
      ]
    },
    {
      "cell_type": "markdown",
      "metadata": {
        "id": "DHP8qytodoQ5"
      },
      "source": [
        "### Legend Position\n",
        "Is there a way to change to position of the legend? For example, upper right or lower right of the plot? "
      ]
    },
    {
      "cell_type": "code",
      "source": [
        "## -----------------------add your code here! ---------------------------------\n",
        "## copy the previous cell codes here and try to change the legend position\n",
        "\n",
        "\n"
      ],
      "metadata": {
        "id": "R0XKHkMw8yR3"
      },
      "execution_count": null,
      "outputs": []
    },
    {
      "cell_type": "markdown",
      "metadata": {
        "id": "G-XP9waDdoQ7"
      },
      "source": [
        "### Customization\n",
        "Now you should know some basics of Matplotlib packge. Besides the functions we introduced above, there are also many other tips for customizing the properties and default styles of Matplotlib. The most popular ones include:\n",
        "- Color \n",
        "- Marker \n",
        "- Marker Size \n",
        "- Line Style \n",
        "- Line width\n",
        "\n",
        "From here till the next section **Histogram**, you will need to use the previous codes as the base and follow the instruction to add something! "
      ]
    },
    {
      "cell_type": "markdown",
      "source": [
        "#### color, linewidth, marker\n",
        "Add the following customized features in the plot: \n",
        "- linewidth: 2, 3, 4\n",
        "- color: blue, red, green\n",
        "- marker style: circle marker connected by line, x marker connected by line, dashed line\n",
        "\n",
        "for variables mib_salary, pharma_salary and bcs salary individually. \n",
        "\n",
        "> Note: Above requirements for linewidth, color and marker style are provided as an example. You can try other combinations as well!"
      ],
      "metadata": {
        "id": "9SvavVrddGRR"
      }
    },
    {
      "cell_type": "code",
      "execution_count": null,
      "metadata": {
        "id": "IBr5DWoPdoQ7"
      },
      "outputs": [],
      "source": [
        "## -----------------------add your code here! ---------------------------------\n",
        "\n"
      ]
    },
    {
      "cell_type": "markdown",
      "metadata": {
        "id": "hPtL7sY6doQ9"
      },
      "source": [
        "### Font Size \n",
        "There are a few ways you can go about changing the size of fonts in Matplotlib. You can set the `fontsize` argument, change how Matplotlib treats fonts in general or specifically. \n",
        "\n",
        "Now try to add argument `fontsize` equals to 12 for both *y_axis label* and the *title*. "
      ]
    },
    {
      "cell_type": "code",
      "execution_count": null,
      "metadata": {
        "id": "a-FdhnI9doQ9"
      },
      "outputs": [],
      "source": [
        "## -----------------------add your code here! ---------------------------------\n"
      ]
    },
    {
      "cell_type": "markdown",
      "metadata": {
        "id": "-k2CzBvldoQ-"
      },
      "source": [
        "### Figure Size\n",
        "Similar to previous `fontsize` argument, now try to change to figure size to 10 inches*6 inches.  "
      ]
    },
    {
      "cell_type": "code",
      "execution_count": null,
      "metadata": {
        "id": "MvG8B7KLdoQ-"
      },
      "outputs": [],
      "source": [
        "## -----------------------add your code here! ---------------------------------\n",
        "\n",
        "\n"
      ]
    },
    {
      "cell_type": "markdown",
      "metadata": {
        "id": "FM_kH4oDdoRB"
      },
      "source": [
        "### Exporting Figure * \n",
        "Another important function is to export the figure. Now save the plot from last cell in **PNG** format and upload it in *Canvas Quiz* for the corresponding question."
      ]
    },
    {
      "cell_type": "code",
      "execution_count": null,
      "metadata": {
        "id": "He0ZrmCGdoRD"
      },
      "outputs": [],
      "source": [
        "## -----------------------add your code here! ---------------------------------\n",
        "\n"
      ]
    },
    {
      "cell_type": "markdown",
      "metadata": {
        "id": "GigLZ8sudoRE"
      },
      "source": [
        "## Subplots\n",
        "In fiction, a subplot is a secondary strand of the plot that is a supporting side story for any story or the main plot. Subplots may connect to main plots, in either time and place or in thematic significance. Subplots often involve supporting characters, those besides the protagonist or antagonist.\n",
        "\n",
        "\n",
        "![](https://github.com/hossainlab/PY4B/blob/master/book/img/sphx_glr_subplots_demo_005.png?raw=1)"
      ]
    },
    {
      "cell_type": "code",
      "execution_count": null,
      "metadata": {
        "id": "gxdWmkqFdoRE",
        "colab": {
          "base_uri": "https://localhost:8080/",
          "height": 388
        },
        "outputId": "22a970b4-14e2-4109-cd62-ec8ea21d2555"
      },
      "outputs": [
        {
          "output_type": "stream",
          "name": "stdout",
          "text": [
            "[[<matplotlib.axes._subplots.AxesSubplot object at 0x7f70c1f0e710>\n",
            "  <matplotlib.axes._subplots.AxesSubplot object at 0x7f70c1f7c510>\n",
            "  <matplotlib.axes._subplots.AxesSubplot object at 0x7f70c1f05610>]\n",
            " [<matplotlib.axes._subplots.AxesSubplot object at 0x7f70c1ebab10>\n",
            "  <matplotlib.axes._subplots.AxesSubplot object at 0x7f70c1e7b090>\n",
            "  <matplotlib.axes._subplots.AxesSubplot object at 0x7f70c1e33550>]]\n"
          ]
        },
        {
          "output_type": "display_data",
          "data": {
            "image/png": "[encoded data removed]",
            "text/plain": [
              "<Figure size 432x288 with 6 Axes>"
            ]
          },
          "metadata": {
            "needs_background": "light"
          }
        }
      ],
      "source": [
        "## create the 2*3 subplots\n",
        "fig, ax = plt.subplots(nrows=2, ncols=3)\n",
        "print(ax)"
      ]
    },
    {
      "cell_type": "markdown",
      "source": [
        "### Optional\n",
        "The above figure shows that some parts of the axes overlap. `tight_layout` is a very useful function that adjusts subplot params so that the subplot(s) fits in to the figure area. This is an experimental feature and may not work for some cases. It only checks the extents of ticklabels, axis labels, and titles. Add this function to the previous cell and see how it changes."
      ],
      "metadata": {
        "id": "_r7XjcxdVWyC"
      }
    },
    {
      "cell_type": "code",
      "execution_count": null,
      "metadata": {
        "id": "ELm2gIOPdoRF",
        "colab": {
          "base_uri": "https://localhost:8080/",
          "height": 289
        },
        "outputId": "362a42e1-1fd9-4910-a42c-ed4dda7e476a"
      },
      "outputs": [
        {
          "output_type": "display_data",
          "data": {
            "image/png": "[encoded data removed]",
            "text/plain": [
              "<Figure size 432x288 with 6 Axes>"
            ]
          },
          "metadata": {
            "needs_background": "light"
          }
        }
      ],
      "source": [
        "## create the 2*3 subplots using commond axes \n",
        "fig, ax = plt.subplots(2, 3, sharex='col', sharey='row')"
      ]
    },
    {
      "cell_type": "markdown",
      "source": [
        "### create your own subplots *\n",
        "There are many ways to create subplots, complete the lines in the below cell to create subplots. You can modify the codes to create your own subplots! And save the plot in **JPG** format and upload it in *Canvas Quiz* for the corresponding question.\n",
        "\n",
        "> Note! You might need the function in previous *optional* cell to make a nice-fit plot."
      ],
      "metadata": {
        "id": "GPch4Ghj2dWF"
      }
    },
    {
      "cell_type": "code",
      "execution_count": null,
      "metadata": {
        "id": "dUhkfr7ZdoRF",
        "colab": {
          "base_uri": "https://localhost:8080/",
          "height": 332
        },
        "outputId": "a39a919d-12a1-49d7-9d5f-b69d27d30c13"
      },
      "outputs": [
        {
          "output_type": "execute_result",
          "data": {
            "text/plain": [
              "Text(0.5, 1.0, 'Median Salary (USD) by Age')"
            ]
          },
          "metadata": {},
          "execution_count": 47
        },
        {
          "output_type": "display_data",
          "data": {
            "image/png": "[encoded data removed]",
            "text/plain": [
              "<Figure size 432x288 with 2 Axes>"
            ]
          },
          "metadata": {
            "needs_background": "light"
          }
        }
      ],
      "source": [
        "## -----------------------add your code here! ---------------------------------\n",
        "## create subplot command: 2*1 subplots\n",
        "fig, (ax1, ax2) = plt.subplots(nrows=2, ncols=1)  \n",
        "\n",
        "\n",
        "## add Microbiology variable to the 1st subplot\n",
        "## uncomment and complete the next line\n",
        "## ax1.plot(***)\n",
        "\n",
        "## add Pharmacy variable to the 1st subplot \n",
        "## uncomment and complete the next line\n",
        "## ax1.plot(***)\n",
        "\n",
        "## add BCS variable to the 2st subplot \n",
        "## uncomment and complete the next line\n",
        "## ax2.plot(***)\n",
        "\n",
        "\n",
        "## add labels & titles for 1st subplot\n",
        "ax1.set_xlabel('Ages')\n",
        "ax1.set_ylabel('Median Salary (USD)')\n",
        "ax1.set_title('Median Salary (USD) by Age')\n",
        "## add legend for 1st subplot: complete the line here!\n",
        "\n",
        "\n",
        "## add labels & titles for 2nd subplot\n",
        "ax2.set_xlabel('Ages')\n",
        "ax2.set_ylabel('Median Salary (USD)')\n",
        "ax2.set_title('Median Salary (USD) by Age')\n",
        "## add legend for 2nd subplot: complete the line here!\n",
        "\n",
        "\n",
        "## export the figure \n",
        " "
      ]
    },
    {
      "cell_type": "markdown",
      "metadata": {
        "id": "e-ulybKqdoRF"
      },
      "source": [
        "## Histograms\n",
        "- Histogram: a graphical display of data using bars of different heights.\n",
        "- The height of each bar shows how many fall into each range.\n",
        "- And you decide what ranges to use!\n",
        "\n",
        "\n",
        "![hist](https://github.com/hossainlab/PY4B/blob/master/book/img/histogram.gif?raw=1)"
      ]
    },
    {
      "cell_type": "markdown",
      "metadata": {
        "id": "251rrFCNdoRG"
      },
      "source": [
        "### Create Histogram"
      ]
    },
    {
      "cell_type": "code",
      "execution_count": null,
      "metadata": {
        "id": "muUjouE1doRG"
      },
      "outputs": [],
      "source": [
        "import random\n",
        "weight = [random.random() for i in range(20)]  ## create a variable\n",
        "## print(weight)   ## check the variable by printing it out"
      ]
    },
    {
      "cell_type": "code",
      "execution_count": null,
      "metadata": {
        "id": "7dIqqIhSdoRH",
        "colab": {
          "base_uri": "https://localhost:8080/",
          "height": 315
        },
        "outputId": "5b54b264-b25b-47c4-c8a2-17f30e009e84"
      },
      "outputs": [
        {
          "output_type": "display_data",
          "data": {
            "image/png": "[encoded data removed]",
            "text/plain": [
              "<Figure size 432x288 with 1 Axes>"
            ]
          },
          "metadata": {
            "needs_background": "light"
          }
        }
      ],
      "source": [
        "## -----------------------add your code here! ---------------------------------\n",
        "## add line to make a hist plot for the weight variable\n",
        "\n",
        "\n",
        "\n",
        "plt.xlabel(\"Weight\")\n",
        "plt.ylabel(\"Frequency\")\n",
        "plt.title(\"Distribution of Weight\")\n",
        "plt.show() "
      ]
    },
    {
      "cell_type": "markdown",
      "source": [
        "### add bins to the histplot\n",
        "A histogram displays numerical data by grouping data into \"bins\" of equal width. Each bin is plotted as a bar whose height corresponds to how many data points are in that bin. Bins are also sometimes called \"intervals\", \"classes\", or \"buckets\". Now add bins to the previous plot."
      ],
      "metadata": {
        "id": "0MMimJBmFNJn"
      }
    },
    {
      "cell_type": "code",
      "execution_count": null,
      "metadata": {
        "id": "eGUz9TBXdoRH",
        "colab": {
          "base_uri": "https://localhost:8080/",
          "height": 315
        },
        "outputId": "2514203a-3742-41a7-8e8b-1c41d094b096"
      },
      "outputs": [
        {
          "output_type": "display_data",
          "data": {
            "image/png": "[encoded data removed]",
            "text/plain": [
              "<Figure size 432x288 with 1 Axes>"
            ]
          },
          "metadata": {
            "needs_background": "light"
          }
        }
      ],
      "source": [
        "## -----------------------add your code here! ---------------------------------\n",
        "## try bins with different values, eg: 10 ,15, 20 and see how the plot changes.\n",
        "\n",
        "\n",
        "plt.xlabel(\"Weight\")\n",
        "plt.ylabel(\"Frequency\")\n",
        "plt.title(\"Distribution of Weight\")\n",
        "plt.show() "
      ]
    },
    {
      "cell_type": "markdown",
      "metadata": {
        "id": "3cxzGqu3doRI"
      },
      "source": [
        "## Scatter Plot\n",
        "A scatter plot (also called a scatterplot, scatter graph, scatter chart, scattergram, or scatter diagram) is a type of plot or mathematical diagram using Cartesian coordinates to display values for typically two variables for a set of data.\n",
        "\n",
        "\n",
        "![](https://github.com/hossainlab/PY4B/blob/master/book/img/scatter-plot.svg?raw=1)"
      ]
    },
    {
      "cell_type": "code",
      "execution_count": null,
      "metadata": {
        "id": "rihicHRsdoRI"
      },
      "outputs": [],
      "source": [
        "## generate variables\n",
        "## Height in(m)\n",
        "height = [1.4, 1.2, 1.5, 1.3, 1.6, 1.5]\n",
        "## Weight in (Kg) \n",
        "weight = [60, 15, 85, 74, 77, 65]"
      ]
    },
    {
      "cell_type": "markdown",
      "source": [
        "### Make scatter plot *\n",
        "Complete the line in the below cell to make a scatter plot. Save the plot in **PNG** format and upload it in *Canvas Quiz* for the corresponding question."
      ],
      "metadata": {
        "id": "artqQioFGZn_"
      }
    },
    {
      "cell_type": "code",
      "execution_count": null,
      "metadata": {
        "id": "ptD_6nR_doRI",
        "colab": {
          "base_uri": "https://localhost:8080/",
          "height": 332
        },
        "outputId": "629eefae-1958-4a09-f099-bb2a38db4ce5"
      },
      "outputs": [
        {
          "output_type": "execute_result",
          "data": {
            "text/plain": [
              "Text(0.5, 1.0, 'Scatter Plot of Height & Weight')"
            ]
          },
          "metadata": {},
          "execution_count": 52
        },
        {
          "output_type": "display_data",
          "data": {
            "image/png": "[encoded data removed]",
            "text/plain": [
              "<Figure size 432x288 with 1 Axes>"
            ]
          },
          "metadata": {
            "needs_background": "light"
          }
        }
      ],
      "source": [
        "## -----------------------add your code here! ---------------------------------\n",
        "## add your code here and make a scatter plot for height (x_axis) and weight (y_axis) variables\n",
        "\n",
        "\n",
        "plt.xlabel(\"Weight\")\n",
        "plt.ylabel(\"Weight\") \n",
        "plt.title(\"Scatter Plot of Height & Weight\") \n",
        "\n",
        "## save the plot\n"
      ]
    },
    {
      "cell_type": "markdown",
      "metadata": {
        "id": "6cpKqxXCdoRI"
      },
      "source": [
        "## Box Plot \n",
        "Boxplots are a measure of how well distributed the data in a data set is. A boxplot is a standardized way of displaying the distribution of data based on a five number summary (“minimum”, first quartile (Q1), median, third quartile (Q3), and “maximum”). \n",
        "\n",
        "<img src=\"https://github.com/hossainlab/PY4B/blob/master/book/img/boxplots.png?raw=1\" width=\"400\" height=\"200\">"
      ]
    },
    {
      "cell_type": "code",
      "execution_count": null,
      "metadata": {
        "id": "_xSNAJoedoRJ",
        "colab": {
          "base_uri": "https://localhost:8080/",
          "height": 286
        },
        "outputId": "667a746b-2def-4180-f8dc-b7cdbb2b6f3c"
      },
      "outputs": [
        {
          "output_type": "display_data",
          "data": {
            "image/png": "[encoded data removed]",
            "text/plain": [
              "<Figure size 432x288 with 1 Axes>"
            ]
          },
          "metadata": {
            "needs_background": "light"
          }
        }
      ],
      "source": [
        "import random\n",
        "collection = [random.random() for i in range(10)]\n",
        "plt.boxplot(collection)\n",
        "plt.show() "
      ]
    },
    {
      "cell_type": "markdown",
      "metadata": {
        "id": "Yurhe3gLdoRJ"
      },
      "source": [
        "### Side by Side Box Plot"
      ]
    },
    {
      "cell_type": "code",
      "execution_count": null,
      "metadata": {
        "id": "J3EcIhpadoRJ"
      },
      "outputs": [],
      "source": [
        "import random\n",
        "collectn_1 = [random.random() for i in range(10)]\n",
        "collectn_2 = [random.random() for i in range(15)]\n",
        "collectn_3 = [random.random() for i in range(20)]\n",
        "collectn_4 = [random.random() for i in range(15)]\n",
        "collections = [collectn_1, collectn_2, collectn_3, collectn_4]\n",
        "\n",
        "## -----------------------add your code here! ---------------------------------\n",
        "## make boxplot for the collection\n",
        "\n",
        "\n",
        "plt.show() "
      ]
    },
    {
      "cell_type": "markdown",
      "metadata": {
        "id": "YCzIADSidoRK"
      },
      "source": [
        "## Bar Plot \n",
        "A bar chart or bar graph is a chart or graph that presents categorical data with rectangular bars with heights or lengths proportional to the values that they represent. The bars can be plotted vertically or horizontally.\n",
        "\n",
        "A bar graph shows comparisons among discrete categories. One axis of the chart shows the specific categories being compared, and the other axis represents a measured value."
      ]
    },
    {
      "cell_type": "code",
      "execution_count": null,
      "metadata": {
        "id": "iPKaNWJFdoRK"
      },
      "outputs": [],
      "source": [
        "# <---Fake Data for Plotting---->\n",
        "# Gender \n",
        "gender = [\"Female\", \"Male\", \"Female\", \"Male\", \"Male\", \"Female\"]\n",
        "\n",
        "# Age group \n",
        "age_group = [\"Adult\", \"Child\", \"Adult\", \"Adult\",\"Adult\",\"Elderly\"]\n",
        "\n",
        "# Height in(m)\n",
        "height = [1.4, 1.2, 1.5, 1.3, 1.6, 1.5]\n",
        "\n",
        "# Weight in (Kg) \n",
        "weight = [60, 15, 85, 74, 77, 65]"
      ]
    },
    {
      "cell_type": "code",
      "execution_count": null,
      "metadata": {
        "id": "ZYzaEc04doRK",
        "colab": {
          "base_uri": "https://localhost:8080/",
          "height": 315
        },
        "outputId": "d398560a-1824-4152-ee44-45a8b03a1750"
      },
      "outputs": [
        {
          "output_type": "display_data",
          "data": {
            "image/png": "[encoded data removed]",
            "text/plain": [
              "<Figure size 432x288 with 1 Axes>"
            ]
          },
          "metadata": {
            "needs_background": "light"
          }
        }
      ],
      "source": [
        "## -----------------------add your code here! ---------------------------------\n",
        "## make a barplot for gender (x_axis) and height (y_axis)\n",
        "\n",
        "plt.xlabel(\"Gender\")\n",
        "plt.ylabel(\"Height\") \n",
        "plt.title(\"Example Bar Graph\")\n",
        "plt.show() "
      ]
    },
    {
      "cell_type": "code",
      "execution_count": null,
      "metadata": {
        "id": "BfGU4kp7doRL",
        "colab": {
          "base_uri": "https://localhost:8080/",
          "height": 315
        },
        "outputId": "4bdf5241-a0ff-42dc-ec13-7c3f6590ac40"
      },
      "outputs": [
        {
          "output_type": "display_data",
          "data": {
            "image/png": "[encoded data removed]",
            "text/plain": [
              "<Figure size 432x288 with 1 Axes>"
            ]
          },
          "metadata": {
            "needs_background": "light"
          }
        }
      ],
      "source": [
        "## -----------------------add your code here! ---------------------------------\n",
        "## make a barplot for age group (x_axis) and height (y_axis)\n",
        "\n",
        "plt.xlabel(\"Age Group\")\n",
        "plt.ylabel(\"Height\") \n",
        "plt.title(\"Example Bar Graph\")\n",
        "plt.show() "
      ]
    },
    {
      "cell_type": "markdown",
      "metadata": {
        "id": "vMUr0YEMdoRL"
      },
      "source": [
        "## Histograms vs Bar Graphs\n",
        "- Bar Graphs are good when your data is in categories (such as \"Comedy\", \"Drama\", etc).\n",
        "- But when you have continuous data (such as a person's height) then use a Histogram.\n",
        "- It is best to leave gaps between the bars of a Bar Graph, so it doesn't look like a Histogram.\n",
        "![hist](https://github.com/hossainlab/PY4B/blob/master/book/img/bar-chart-vs-histogram.svg?raw=1)"
      ]
    },
    {
      "cell_type": "markdown",
      "source": [
        "## Final Task *\n",
        "> Complete this question to finish the last question of *Lab2_A* in Quiz: generate a plot figure and upload it to Canvas!\n",
        "\n",
        "After you read the previous sections, now it is the time for real coding! In this task, you are supposed to make a figure(size 15\\*8 inches) with 2*2 sub plots. \n",
        "\n",
        "We have generate 4 variables and an index variable, and you need to write some lines to make a figure like the example shown here. Note that the plot should have 4 subtitles, and each column shares the x_axis. \n",
        "\n",
        "<img src=\"https://github.com/lllovej/KB7016-17/blob/main/pythonA_example.png?raw=1\" width=\"600\" height=\"350\">\n"
      ],
      "metadata": {
        "id": "kI7NgIyw-hWO"
      }
    },
    {
      "cell_type": "code",
      "source": [
        "import numpy as np\n",
        "## create 4 variables for 4 subplots \n",
        "a=np.random.randint(0, 100, 30)\n",
        "b=np.random.randint(0, 100, 30)\n",
        "c=np.random.randint(0, 100, 30)\n",
        "d=np.random.randint(0, 100, 30)\n",
        "index=list(np.arange(30))\n"
      ],
      "metadata": {
        "id": "fOV8jBfQ6UMs"
      },
      "execution_count": null,
      "outputs": []
    },
    {
      "cell_type": "code",
      "source": [
        "## -----------------------add your code here! ---------------------------------"
      ],
      "metadata": {
        "id": "eNQyKK2T6jQt"
      },
      "execution_count": null,
      "outputs": []
    }
  ],
  "metadata": {
    "kernelspec": {
      "display_name": "Python 3",
      "language": "python",
      "name": "python3"
    },
    "language_info": {
      "codemirror_mode": {
        "name": "ipython",
        "version": 3
      },
      "file_extension": ".py",
      "mimetype": "text/x-python",
      "name": "python",
      "nbconvert_exporter": "python",
      "pygments_lexer": "ipython3",
      "version": "3.7.4"
    },
    "latex_envs": {
      "LaTeX_envs_menu_present": true,
      "autoclose": false,
      "autocomplete": true,
      "bibliofile": "biblio.bib",
      "cite_by": "apalike",
      "current_citInitial": 1,
      "eqLabelWithNumbers": true,
      "eqNumInitial": 1,
      "hotkeys": {
        "equation": "Ctrl-E",
        "itemize": "Ctrl-I"
      },
      "labels_anchors": false,
      "latex_user_defs": false,
      "report_style_numbering": false,
      "user_envs_cfg": false
    },
    "toc": {
      "base_numbering": 1,
      "nav_menu": {},
      "number_sections": true,
      "sideBar": true,
      "skip_h1_title": false,
      "title_cell": "Table of Contents",
      "title_sidebar": "Contents",
      "toc_cell": false,
      "toc_position": {},
      "toc_section_display": true,
      "toc_window_display": false
    },
    "colab": {
      "name": "PythonLab2-A.ipynb",
      "provenance": [],
      "toc_visible": true,
      "include_colab_link": true
    }
  },
  "nbformat": 4,
  "nbformat_minor": 0
}