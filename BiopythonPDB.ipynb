{
  "nbformat": 4,
  "nbformat_minor": 0,
  "metadata": {
    "colab": {
      "name": "BiopythonPDB",
      "provenance": [],
      "authorship_tag": "ABX9TyOSFEphpgqEgVJDl5j1D2BV",
      "include_colab_link": true
    },
    "kernelspec": {
      "name": "python3",
      "display_name": "Python 3"
    },
    "language_info": {
      "name": "python"
    }
  },
  "cells": [
    {
      "cell_type": "markdown",
      "metadata": {
        "id": "view-in-github",
        "colab_type": "text"
      },
      "source": [
        "<a href=\"https://colab.research.google.com/github/lllovej/KB7016-17/blob/main/BiopythonPDB.ipynb\" target=\"_parent\"><img src=\"https://colab.research.google.com/assets/colab-badge.svg\" alt=\"Open In Colab\"/></a>"
      ]
    },
    {
      "cell_type": "markdown",
      "source": [
        "### Quick Start  - PDB Object\n",
        "\n",
        "Biopython provides Bio.PDB module to manipulate polypeptide structures. The PDB (Protein Data Bank) is the largest protein structure resource available online. It hosts a lot of distinct protein structures, including protein-protein, protein-DNA, protein-RNA complexes. For this lab, we simply introduce **PDB format** files as examples."
      ],
      "metadata": {
        "id": "xoiBn6KzlBh4"
      }
    },
    {
      "cell_type": "code",
      "source": [
        "from Bio.PDB import *   ## load the PDB\n",
        "pdbl = PDBList() \n",
        "pdbl.retrieve_pdb_file('2HUE', pdir = '.', file_format = 'pdb') ## download pdb file"
      ],
      "metadata": {
        "colab": {
          "base_uri": "https://localhost:8080/",
          "height": 347
        },
        "id": "J0EBxKJ4lFWu",
        "outputId": "d102faf5-b7de-4d76-dbf1-26d128c0cab2"
      },
      "execution_count": 1,
      "outputs": [
        {
          "output_type": "error",
          "ename": "ModuleNotFoundError",
          "evalue": "ignored",
          "traceback": [
            "\u001b[0;31m---------------------------------------------------------------------------\u001b[0m",
            "\u001b[0;31mModuleNotFoundError\u001b[0m                       Traceback (most recent call last)",
            "\u001b[0;32m<ipython-input-1-c86c092165a2>\u001b[0m in \u001b[0;36m<module>\u001b[0;34m()\u001b[0m\n\u001b[0;32m----> 1\u001b[0;31m \u001b[0;32mfrom\u001b[0m \u001b[0mBio\u001b[0m\u001b[0;34m.\u001b[0m\u001b[0mPDB\u001b[0m \u001b[0;32mimport\u001b[0m \u001b[0;34m*\u001b[0m   \u001b[0;31m## load the PDB\u001b[0m\u001b[0;34m\u001b[0m\u001b[0;34m\u001b[0m\u001b[0m\n\u001b[0m\u001b[1;32m      2\u001b[0m \u001b[0mpdbl\u001b[0m \u001b[0;34m=\u001b[0m \u001b[0mPDBList\u001b[0m\u001b[0;34m(\u001b[0m\u001b[0;34m)\u001b[0m\u001b[0;34m\u001b[0m\u001b[0;34m\u001b[0m\u001b[0m\n\u001b[1;32m      3\u001b[0m \u001b[0mpdbl\u001b[0m\u001b[0;34m.\u001b[0m\u001b[0mretrieve_pdb_file\u001b[0m\u001b[0;34m(\u001b[0m\u001b[0;34m'2HUE'\u001b[0m\u001b[0;34m,\u001b[0m \u001b[0mpdir\u001b[0m \u001b[0;34m=\u001b[0m \u001b[0;34m'.'\u001b[0m\u001b[0;34m,\u001b[0m \u001b[0mfile_format\u001b[0m \u001b[0;34m=\u001b[0m \u001b[0;34m'pdb'\u001b[0m\u001b[0;34m)\u001b[0m \u001b[0;31m## download pdb file\u001b[0m\u001b[0;34m\u001b[0m\u001b[0;34m\u001b[0m\u001b[0m\n",
            "\u001b[0;31mModuleNotFoundError\u001b[0m: No module named 'Bio'",
            "",
            "\u001b[0;31m---------------------------------------------------------------------------\u001b[0;32m\nNOTE: If your import is failing due to a missing package, you can\nmanually install dependencies using either !pip or !apt.\n\nTo view examples of installing some common dependencies, click the\n\"Open Examples\" button below.\n\u001b[0;31m---------------------------------------------------------------------------\u001b[0m\n"
          ],
          "errorDetails": {
            "actions": [
              {
                "action": "open_url",
                "actionText": "Open Examples",
                "url": "/notebooks/snippets/importing_libraries.ipynb"
              }
            ]
          }
        }
      ]
    },
    {
      "cell_type": "code",
      "source": [
        "parser = PDBParser(PERMISSIVE=1)  ## load PDB parser\n",
        "structure_id = \"2hue\"\n",
        "filename = \"pdb2hue.ent\"\n",
        "test_structure = parser.get_structure(structure_id, filename)    ## parse the structure"
      ],
      "metadata": {
        "id": "kJsnjUlllFyc"
      },
      "execution_count": null,
      "outputs": []
    },
    {
      "cell_type": "markdown",
      "source": [
        "The overall layout of a Structure object follows the so-called SMCRA (Structure/Model/Chain/Residue/Atom) architecture:\n",
        "- A structure consists of models \n",
        "- A model consists of chains\n",
        "- A chain consists of residues\n",
        "- A residue consists of atoms\n",
        "\n",
        "This is the way many structural biologists/bioinformaticians think about structure, and provides a simple but efficient way to deal with structure. Additional stuff is essentially added when needed. To get a better understanding of this hierarchical architecture, check the codes below.\n"
      ],
      "metadata": {
        "id": "7nKrMZRDlLMd"
      }
    },
    {
      "cell_type": "code",
      "source": [
        "for model in test_structure:  ## check Model, Chain\n",
        "    for chain in model:\n",
        "        print(model, chain)"
      ],
      "metadata": {
        "id": "dx3ccy5UlIf1"
      },
      "execution_count": null,
      "outputs": []
    },
    {
      "cell_type": "code",
      "source": [
        "#for residue in test_structure[0]['A']:  ## take Chain A of the 1st model as an example: check their residues and atoms\n",
        "#    for atom in residue:\n",
        "#        print(residue, atom)\n",
        "    "
      ],
      "metadata": {
        "id": "YLF2m3FKlOlP"
      },
      "execution_count": null,
      "outputs": []
    },
    {
      "cell_type": "markdown",
      "source": [
        "A residue includes three elements:\n",
        "- \"Residue\" is followed by three-letter amino acid name;\n",
        "- 'het' indicates if it is a hetero residues;\n",
        "- The insertion code (icode); a string, e.g. ’A’. The insertion code is sometimes used to preserve a certain desirable residue numbering scheme. A Ser 80 insertion mutant (inserted e.g. between a Thr 80 and an Asn 81 residue) could e.g. have sequence identifiers and insertion codes as follows: Thr 80 A, Ser 80 B, Asn 81. In this way the residue numbering scheme stays in tune with that of the wild type structure."
      ],
      "metadata": {
        "id": "uHNnA4e9lUI2"
      }
    },
    {
      "cell_type": "markdown",
      "source": [
        "### Hint !\n",
        "Go to RCSB webpage: https://www.rcsb.org/structure/2HUE, compare the previous chain results with the online information."
      ],
      "metadata": {
        "id": "NOMgRc4ulXqj"
      }
    },
    {
      "cell_type": "markdown",
      "source": [
        "## Selection\n",
        "**Bio.PDB.Selection module** unfold entities list to a child level, for example:\n",
        "```\n",
        "res_list = Selection.unfold_entities(structure, 'R') \n",
        "```\n",
        "This line gett all residues from a structure. Or to get all atoms from a chain:\n",
        "```\n",
        "atom_list = Selection.unfold_entities(chain, 'A')\n",
        "```\n",
        "\n",
        "Obviously, `A=atom`, `R=residue`, `C=chain`, `M=model`, `S=structure`. You can use this to go up in the hierarchy, e.g. to get a list of (unique) Residue or Chain parents from a list of Atoms:\n",
        "```\n",
        "residue_list = Selection.unfold_entities(atom_list, 'R')\n",
        "chain_list = Selection.unfold_entities(atom_list, 'C')"
      ],
      "metadata": {
        "id": "VeEHZAZXldf6"
      }
    },
    {
      "cell_type": "code",
      "source": [
        "from Bio.PDB.Selection import unfold_entities\n",
        "### unfold the structure to get all chains:\n",
        "chain_list = unfold_entities(test_structure,'C')\n",
        "print(chain_list)"
      ],
      "metadata": {
        "id": "D-FGnLs-lbOL"
      },
      "execution_count": null,
      "outputs": []
    },
    {
      "cell_type": "markdown",
      "source": [
        "## Question:\n",
        "Can you get all atoms from **Chain B** of the test structure? how many atoms in **Chain B**?"
      ],
      "metadata": {
        "id": "QzD0_jVIlib_"
      }
    },
    {
      "cell_type": "code",
      "source": [
        ""
      ],
      "metadata": {
        "id": "S1YQchYklRES"
      },
      "execution_count": null,
      "outputs": []
    }
  ]
}